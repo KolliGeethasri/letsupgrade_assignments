{
  "nbformat": 4,
  "nbformat_minor": 0,
  "metadata": {
    "colab": {
      "name": "Untitled4.ipynb",
      "provenance": []
    },
    "kernelspec": {
      "name": "python3",
      "display_name": "Python 3"
    }
  },
  "cells": [
    {
      "cell_type": "code",
      "metadata": {
        "colab": {
          "base_uri": "https://localhost:8080/"
        },
        "id": "Bn4kIje--jf_",
        "outputId": "a3972f0b-a22d-43b2-d555-179516e2cbb7"
      },
      "source": [
        "lst1=[]\r\n",
        "lst2=[]\r\n",
        "len=int(input(\"Enter no.of elements in the list\"))\r\n",
        "for i in range(0,len):\r\n",
        "  n=int(input(\"Enter list elements\"))\r\n",
        "  lst1.append(n)\r\n",
        "for x in lst1:\r\n",
        "  if x not in lst2:\r\n",
        "    lst2.append(x)\r\n",
        "print(lst2)"
      ],
      "execution_count": 3,
      "outputs": [
        {
          "output_type": "stream",
          "text": [
            "Enter no.of elements in the list3\n",
            "Enter list elements1\n",
            "Enter list elements2\n",
            "Enter list elements2\n",
            "[1, 2]\n"
          ],
          "name": "stdout"
        }
      ]
    },
    {
      "cell_type": "code",
      "metadata": {
        "colab": {
          "base_uri": "https://localhost:8080/"
        },
        "id": "e4WpMwQPBXdN",
        "outputId": "51c56e27-55e8-41ae-9a2a-523eb40288c6"
      },
      "source": [
        "lst1=[]\r\n",
        "lst2=[]\r\n",
        "lst3=[]\r\n",
        "lst4=[]\r\n",
        "len1=int(input(\"Enter no.of elements in the list1:\"))\r\n",
        "len2=int(input(\"Enter no.of elements in the list2:\"))\r\n",
        "for i in range(0,len1):\r\n",
        "  n=int(input(\"Enter list1 elements\"))\r\n",
        "  lst1.append(n)\r\n",
        "for i in range(0,len2):\r\n",
        "  n=int(input(\"Enter list2 elements\"))\r\n",
        "  lst2.append(n)\r\n",
        "for x in lst1:\r\n",
        "  if x not in lst2:\r\n",
        "    lst3.append(x)\r\n",
        "print(\"lst1-lst2;\",lst3)\r\n",
        "for x in lst2:\r\n",
        "  if x not in lst1:\r\n",
        "    lst4.append(x)\r\n",
        "print(\"lst2-lst1;\",lst4)\r\n",
        "\r\n"
      ],
      "execution_count": 15,
      "outputs": [
        {
          "output_type": "stream",
          "text": [
            "Enter no.of elements in the list1:5\n",
            "Enter no.of elements in the list2:5\n",
            "Enter list1 elements1\n",
            "Enter list1 elements2\n",
            "Enter list1 elements3\n",
            "Enter list1 elements4\n",
            "Enter list1 elements5\n",
            "Enter list2 elements4\n",
            "Enter list2 elements5\n",
            "Enter list2 elements6\n",
            "Enter list2 elements7\n",
            "Enter list2 elements8\n",
            "lst1-lst2; [1, 2, 3]\n",
            "lst2-lst1; [6, 7, 8]\n"
          ],
          "name": "stdout"
        }
      ]
    },
    {
      "cell_type": "code",
      "metadata": {
        "colab": {
          "base_uri": "https://localhost:8080/"
        },
        "id": "VzCCeQoNC8Ww",
        "outputId": "5de57d68-663c-4819-dbb8-045b1a71332a"
      },
      "source": [
        "list=[]\r\n",
        "len=int(input(\"Enter list length\"))\r\n",
        "for i in range(0,len):\r\n",
        "  n=int(input(\"Enter list elements\"))\r\n",
        "  list.append(n)\r\n",
        "freq={}\r\n",
        "for item in list:\r\n",
        "  if item in freq:\r\n",
        "    freq[item]+=1\r\n",
        "  else:\r\n",
        "    freq[item]=1\r\n",
        "for key,values in freq.items():\r\n",
        "  print(\"%s-%d\"%(key,values))"
      ],
      "execution_count": 31,
      "outputs": [
        {
          "output_type": "stream",
          "text": [
            "Enter list length5\n",
            "Enter liist elements1\n",
            "Enter liist elements1\n",
            "Enter liist elements2\n",
            "Enter liist elements2\n",
            "Enter liist elements3\n",
            "1-2\n",
            "2-2\n",
            "3-1\n"
          ],
          "name": "stdout"
        }
      ]
    },
    {
      "cell_type": "code",
      "metadata": {
        "colab": {
          "base_uri": "https://localhost:8080/"
        },
        "id": "n8zcNIv8YBjt",
        "outputId": "d4d07f29-cf1a-4b3d-d05a-a9566c97b06a"
      },
      "source": [
        "lst1=[]\r\n",
        "lst2=[]\r\n",
        "lst3=[]\r\n",
        "lst4=[]\r\n",
        "len1=int(input(\"Enter no.of elements in the list1:\"))\r\n",
        "len2=int(input(\"Enter no.of elements in the list2:\"))\r\n",
        "for i in range(0,len1):\r\n",
        "  n=input(\"Enter list1 elements\")\r\n",
        "  lst1.append(n)\r\n",
        "for i in range(0,len2):\r\n",
        "  n=input(\"Enter list2 elements\")\r\n",
        "  lst2.append(n)\r\n",
        "for x in lst1:\r\n",
        "  if x not in lst2:\r\n",
        "    lst3.append(x)\r\n",
        "print(\"lst1-lst2;\",lst3)\r\n",
        "for x in lst2:\r\n",
        "  if x not in lst1:\r\n",
        "    lst4.append(x)\r\n",
        "print(\"lst2-lst1;\",lst4)\r\n",
        "\r\n"
      ],
      "execution_count": 4,
      "outputs": [
        {
          "output_type": "stream",
          "text": [
            "Enter no.of elements in the list1:5\n",
            "Enter no.of elements in the list2:4\n",
            "Enter list1 elementsred\n",
            "Enter list1 elementsorange\n",
            "Enter list1 elementsgreen\n",
            "Enter list1 elementsblue\n",
            "Enter list1 elementswhite\n",
            "Enter list2 elementsblack\n",
            "Enter list2 elementsyellow\n",
            "Enter list2 elementsgreen\n",
            "Enter list2 elementsblue\n",
            "lst1-lst2; ['red', 'orange', 'white']\n",
            "lst2-lst1; ['black', 'yellow']\n"
          ],
          "name": "stdout"
        }
      ]
    },
    {
      "cell_type": "code",
      "metadata": {
        "colab": {
          "base_uri": "https://localhost:8080/",
          "height": 310
        },
        "id": "RYchebjMYvlh",
        "outputId": "24c3c894-1775-460e-ef8e-141cb5167e42"
      },
      "source": [
        "lst1=[]\r\n",
        "lst2=[]\r\n",
        "len=int(input(\"Enter no.of elements in the list\"))\r\n",
        "for i in range(0,len):\r\n",
        "  n=input(\"Enter list elements\")\r\n",
        "  lst1.append(n)\r\n",
        "for ele in lst1:\r\n",
        "  a=len(ele)\r\n",
        "  lst2.append(a)\r\n",
        "print(max(lst2))"
      ],
      "execution_count": 42,
      "outputs": [
        {
          "output_type": "stream",
          "text": [
            "Enter no.of elements in the list3\n",
            "Enter list elementsred\n",
            "Enter list elementsblue\n",
            "Enter list elementswhite\n"
          ],
          "name": "stdout"
        },
        {
          "output_type": "error",
          "ename": "TypeError",
          "evalue": "ignored",
          "traceback": [
            "\u001b[0;31m---------------------------------------------------------------------------\u001b[0m",
            "\u001b[0;31mTypeError\u001b[0m                                 Traceback (most recent call last)",
            "\u001b[0;32m<ipython-input-42-652d650d2516>\u001b[0m in \u001b[0;36m<module>\u001b[0;34m()\u001b[0m\n\u001b[1;32m      6\u001b[0m   \u001b[0mlst1\u001b[0m\u001b[0;34m.\u001b[0m\u001b[0mappend\u001b[0m\u001b[0;34m(\u001b[0m\u001b[0mn\u001b[0m\u001b[0;34m)\u001b[0m\u001b[0;34m\u001b[0m\u001b[0;34m\u001b[0m\u001b[0m\n\u001b[1;32m      7\u001b[0m \u001b[0;32mfor\u001b[0m \u001b[0mele\u001b[0m \u001b[0;32min\u001b[0m \u001b[0mlst1\u001b[0m\u001b[0;34m:\u001b[0m\u001b[0;34m\u001b[0m\u001b[0;34m\u001b[0m\u001b[0m\n\u001b[0;32m----> 8\u001b[0;31m   \u001b[0ma\u001b[0m\u001b[0;34m=\u001b[0m\u001b[0mlen\u001b[0m\u001b[0;34m(\u001b[0m\u001b[0mele\u001b[0m\u001b[0;34m)\u001b[0m\u001b[0;34m\u001b[0m\u001b[0;34m\u001b[0m\u001b[0m\n\u001b[0m\u001b[1;32m      9\u001b[0m   \u001b[0mlst2\u001b[0m\u001b[0;34m.\u001b[0m\u001b[0mappend\u001b[0m\u001b[0;34m(\u001b[0m\u001b[0ma\u001b[0m\u001b[0;34m)\u001b[0m\u001b[0;34m\u001b[0m\u001b[0;34m\u001b[0m\u001b[0m\n\u001b[1;32m     10\u001b[0m \u001b[0mprint\u001b[0m\u001b[0;34m(\u001b[0m\u001b[0mmax\u001b[0m\u001b[0;34m(\u001b[0m\u001b[0mlst2\u001b[0m\u001b[0;34m)\u001b[0m\u001b[0;34m)\u001b[0m\u001b[0;34m\u001b[0m\u001b[0;34m\u001b[0m\u001b[0m\n",
            "\u001b[0;31mTypeError\u001b[0m: 'int' object is not callable"
          ]
        }
      ]
    },
    {
      "cell_type": "code",
      "metadata": {
        "colab": {
          "base_uri": "https://localhost:8080/"
        },
        "id": "8V1k5dOAaJrT",
        "outputId": "bdc66145-83ca-45ac-a7a2-ef7395113952"
      },
      "source": [
        "list=[]\r\n",
        "len=int(input(\"Enter list length\"))\r\n",
        "for i in range(0,len):\r\n",
        "  n=input(\"Enter list elements\")\r\n",
        "  list.append(n)\r\n",
        "freq={}\r\n",
        "for item in list:\r\n",
        "  if item in freq:\r\n",
        "    freq[item]+=1\r\n",
        "  else:\r\n",
        "    freq[item]=1\r\n",
        "for key,values in freq.items():\r\n",
        "  print(\"%s-%d\"%(key,values))"
      ],
      "execution_count": 32,
      "outputs": [
        {
          "output_type": "stream",
          "text": [
            "Enter list length5\n",
            "Enter list elementsin\n",
            "Enter list elementson\n",
            "Enter list elementson\n",
            "Enter list elementsint\n",
            "Enter list elementsof\n",
            "in-1\n",
            "on-2\n",
            "int-1\n",
            "of-1\n"
          ],
          "name": "stdout"
        }
      ]
    },
    {
      "cell_type": "code",
      "metadata": {
        "colab": {
          "base_uri": "https://localhost:8080/"
        },
        "id": "rUqq8qekp2Wa",
        "outputId": "c20ff58e-cf52-41cf-b97e-40498ccbbfd9"
      },
      "source": [
        "lst1=['a','e','i','o','u']\r\n",
        "string=input(\"enter string\")\r\n",
        "count=0\r\n",
        "for char in string:\r\n",
        "  if char in lst1:\r\n",
        "    count+=1\r\n",
        "print(count)"
      ],
      "execution_count": 43,
      "outputs": [
        {
          "output_type": "stream",
          "text": [
            "enter stringumbrella\n",
            "3\n"
          ],
          "name": "stdout"
        }
      ]
    },
    {
      "cell_type": "code",
      "metadata": {
        "colab": {
          "base_uri": "https://localhost:8080/"
        },
        "id": "6fF2V506uVMP",
        "outputId": "787da8a6-f250-4a32-b3b6-20e241ede064"
      },
      "source": [
        "d={}\r\n",
        "l1=[]\r\n",
        "l2=[]\r\n",
        "for i in range(1,10):\r\n",
        "  l1.append(i)\r\n",
        "  l2.append(i*i)\r\n",
        "d = {k:v for k,v in zip(l1,l2)}\r\n",
        "print(d)\r\n"
      ],
      "execution_count": 52,
      "outputs": [
        {
          "output_type": "stream",
          "text": [
            "{1: 1, 2: 4, 3: 9, 4: 16, 5: 25, 6: 36, 7: 49, 8: 64, 9: 81}\n"
          ],
          "name": "stdout"
        }
      ]
    },
    {
      "cell_type": "code",
      "metadata": {
        "colab": {
          "base_uri": "https://localhost:8080/"
        },
        "id": "iLqT7y4zxdzp",
        "outputId": "60d65ed0-981c-493d-d50f-695ce54e0855"
      },
      "source": [
        "\r\n",
        "dict1 = {'a': 100, 'b': 50, 'c': 10} \r\n",
        "dict2 = {'a': 100, 'b': 200, 'd': 300} \r\n",
        "for key in dict2: \r\n",
        "\tif key in dict1: \r\n",
        "\t\tdict2[key] = dict2[key] + dict1[key] \r\n",
        "\telse: \r\n",
        "\t\tpass\r\n",
        "\t\t\r\n",
        "print(dict2) \r\n"
      ],
      "execution_count": 54,
      "outputs": [
        {
          "output_type": "stream",
          "text": [
            "{'a': 200, 'b': 250, 'd': 300}\n"
          ],
          "name": "stdout"
        }
      ]
    },
    {
      "cell_type": "code",
      "metadata": {
        "colab": {
          "base_uri": "https://localhost:8080/"
        },
        "id": "cq8Z0Mbjyehu",
        "outputId": "9d3b53f4-a5a5-47d5-899d-5d17cbcbef7c"
      },
      "source": [
        "\r\n",
        "dict1 = {'V': 100, 'V': 50, 'VI': 100,'VI': 100, 'VII': 200, 'VIII': 300} \r\n",
        "l=[]\r\n",
        "for value in dict1.values(): \r\n",
        "\t  l.append(value)\r\n",
        "print(l) \r\n"
      ],
      "execution_count": 63,
      "outputs": [
        {
          "output_type": "stream",
          "text": [
            "[50, 100, 200, 300]\n"
          ],
          "name": "stdout"
        }
      ]
    }
  ]
}